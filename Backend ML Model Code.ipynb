{
  "cells": [
    {
      "cell_type": "code",
      "execution_count": 80,
      "metadata": {
        "colab": {
          "base_uri": "https://localhost:8080/"
        },
        "id": "5ADcRQapM6OQ",
        "outputId": "e14f89e5-113e-4d8c-b117-5e6adf5859c7"
      },
      "outputs": [
        {
          "output_type": "stream",
          "name": "stdout",
          "text": [
            "Requirement already satisfied: opencv-python in /usr/local/lib/python3.10/dist-packages (4.8.0.74)\n",
            "Requirement already satisfied: numpy>=1.21.2 in /usr/local/lib/python3.10/dist-packages (from opencv-python) (1.22.4)\n"
          ]
        }
      ],
      "source": [
        "!pip install --upgrade opencv-python\n"
      ]
    },
    {
      "cell_type": "code",
      "execution_count": 81,
      "metadata": {
        "colab": {
          "base_uri": "https://localhost:8080/"
        },
        "id": "hT50hBRGQcO1",
        "outputId": "90eec566-ffbb-4f25-cdae-f10867744635"
      },
      "outputs": [
        {
          "output_type": "stream",
          "name": "stdout",
          "text": [
            "Reading package lists... Done\n",
            "Building dependency tree... Done\n",
            "Reading state information... Done\n",
            "tesseract-ocr is already the newest version (4.1.1-2.1build1).\n",
            "0 upgraded, 0 newly installed, 0 to remove and 15 not upgraded.\n"
          ]
        }
      ],
      "source": [
        "!apt install tesseract-ocr\n"
      ]
    },
    {
      "cell_type": "code",
      "execution_count": 82,
      "metadata": {
        "colab": {
          "base_uri": "https://localhost:8080/"
        },
        "id": "F46bOYpoUslP",
        "outputId": "9b686f8b-84e9-4150-d265-3fcbf3eb47f4"
      },
      "outputs": [
        {
          "output_type": "stream",
          "name": "stdout",
          "text": [
            "Requirement already satisfied: pytesseract in /usr/local/lib/python3.10/dist-packages (0.3.10)\n",
            "Requirement already satisfied: packaging>=21.3 in /usr/local/lib/python3.10/dist-packages (from pytesseract) (23.1)\n",
            "Requirement already satisfied: Pillow>=8.0.0 in /usr/local/lib/python3.10/dist-packages (from pytesseract) (9.4.0)\n"
          ]
        }
      ],
      "source": [
        "# Installing pytesseract library required to do OCR for text extraction from images\n",
        "!pip install pytesseract"
      ]
    },
    {
      "cell_type": "code",
      "execution_count": 83,
      "metadata": {
        "colab": {
          "base_uri": "https://localhost:8080/"
        },
        "id": "z-gJpW6qUyKV",
        "outputId": "25222b35-db64-4348-d648-88983d8a94de"
      },
      "outputs": [
        {
          "output_type": "stream",
          "name": "stdout",
          "text": [
            "Reading package lists... Done\n",
            "Building dependency tree... Done\n",
            "Reading state information... Done\n",
            "libtesseract-dev is already the newest version (4.1.1-2.1build1).\n",
            "0 upgraded, 0 newly installed, 0 to remove and 15 not upgraded.\n"
          ]
        }
      ],
      "source": [
        "!apt install libtesseract-dev"
      ]
    },
    {
      "cell_type": "code",
      "execution_count": 84,
      "metadata": {
        "id": "ww-qXmJiRCuq"
      },
      "outputs": [],
      "source": [
        "\n",
        "# import cv2\n",
        "# import pytesseract\n",
        "# import pandas as pd\n",
        "# from PIL import Image\n",
        "\n",
        "# def ocr_to_dataframe(image_path):\n",
        "#     # Load the image using OpenCV\n",
        "#     img = cv2.imread(image_path)\n",
        "\n",
        "#     # Perform OCR using Pytesseract\n",
        "#     text = pytesseract.image_to_string(Image.fromarray(img))\n",
        "\n",
        "#     # Split the text into lines\n",
        "#     lines = text.strip().split('\\n')\n",
        "\n",
        "#     # Create a DataFrame to store the extracted text\n",
        "#     df = pd.DataFrame({'Text': lines})\n",
        "\n",
        "#     return df\n",
        "\n",
        "# # Example usage:\n",
        "# if __name__ == \"__main__\":\n",
        "#     image_path = '/content/Images Dataset/images'  # Replace with the path to your image\n",
        "#     df = ocr_to_dataframe(image_path)\n",
        "#     print(df)\n",
        "\n",
        "\n"
      ]
    },
    {
      "cell_type": "code",
      "execution_count": 85,
      "metadata": {
        "id": "9c26YM_OTfp2"
      },
      "outputs": [],
      "source": [
        "# import cv2\n",
        "# import pytesseract\n",
        "# import pandas as pd\n",
        "# from PIL import Image\n",
        "# import os\n",
        "\n",
        "# def ocr_to_dataframe(image_paths):\n",
        "#     ocr_results = []\n",
        "#     for image_path in image_paths:\n",
        "#         if not os.path.isfile(image_path):\n",
        "#             print(f\"Error: File '{image_path}' not found.\")\n",
        "#             continue\n",
        "\n",
        "#         # Load the image using OpenCV\n",
        "#         img = cv2.imread(image_path)\n",
        "\n",
        "#         if img is None:\n",
        "#             print(f\"Error: Unable to read image '{image_path}'.\")\n",
        "#             continue\n",
        "\n",
        "#         # Perform OCR using Pytesseract\n",
        "#         text = pytesseract.image_to_string(Image.fromarray(img))\n",
        "\n",
        "#         # Split the text into lines\n",
        "#         lines = text.strip().split('\\n')\n",
        "\n",
        "#         # Store the OCR results in a DataFrame\n",
        "#         for line in lines:\n",
        "#             ocr_results.append({'Text': line, 'Image_Path': image_path})\n",
        "\n",
        "#     df = pd.DataFrame(ocr_results)\n",
        "#     return df\n",
        "\n",
        "# # Function to get image file paths from a folder\n",
        "# def get_image_paths_from_folder(folder_path):\n",
        "#     image_paths = []\n",
        "#     for filename in os.listdir(folder_path):\n",
        "#         if filename.lower().endswith(('.jpg', '.jpeg', '.png', '.bmp')):\n",
        "#             image_paths.append(os.path.join(folder_path, filename))\n",
        "#     return image_paths\n",
        "\n",
        "# # Example usage:\n",
        "# if __name__ == \"__main__\":\n",
        "#     folder_path = '/content/drive/MyDrive/Colab Notebooks/Walmart Hackathon/images-dataset'  # Replace with the path to your image folder\n",
        "#     image_paths = get_image_paths_from_folder(folder_path)\n",
        "\n",
        "#     df = ocr_to_dataframe(image_paths)\n",
        "#     if df is not None and not df.empty:\n",
        "#         print(df)\n"
      ]
    },
    {
      "cell_type": "code",
      "execution_count": 86,
      "metadata": {
        "colab": {
          "base_uri": "https://localhost:8080/"
        },
        "id": "_ZtTGvXLEd8f",
        "outputId": "dfeddc63-411c-41d6-afcc-df08c2e38928"
      },
      "outputs": [
        {
          "output_type": "stream",
          "name": "stdout",
          "text": [
            "Requirement already satisfied: pytesseract in /usr/local/lib/python3.10/dist-packages (0.3.10)\n",
            "Requirement already satisfied: packaging>=21.3 in /usr/local/lib/python3.10/dist-packages (from pytesseract) (23.1)\n",
            "Requirement already satisfied: Pillow>=8.0.0 in /usr/local/lib/python3.10/dist-packages (from pytesseract) (9.4.0)\n",
            "Reading package lists... Done\n",
            "Building dependency tree... Done\n",
            "\n",
            "tesseract-ocr is already the newest version (4.1.1-2.1build1).\n",
            "0 upgraded, 0 newly installed, 0 to remove and 15 not upgraded.\n"
          ]
        }
      ],
      "source": [
        "!pip install pytesseract\n",
        "!sudo apt install tesseract-ocr\n"
      ]
    },
    {
      "cell_type": "code",
      "execution_count": 87,
      "metadata": {
        "id": "DdWYOj7XEfV4"
      },
      "outputs": [],
      "source": [
        "import os\n",
        "import cv2\n",
        "import pytesseract\n",
        "import pandas as pd\n",
        "from sklearn.ensemble import IsolationForest\n",
        "from google.colab import drive\n"
      ]
    },
    {
      "cell_type": "code",
      "execution_count": 88,
      "metadata": {
        "colab": {
          "base_uri": "https://localhost:8080/"
        },
        "id": "-geMXE7GEmMz",
        "outputId": "8da17716-923b-4d33-f92d-324144b60f67"
      },
      "outputs": [
        {
          "output_type": "stream",
          "name": "stdout",
          "text": [
            "Drive already mounted at /content/drive; to attempt to forcibly remount, call drive.mount(\"/content/drive\", force_remount=True).\n"
          ]
        }
      ],
      "source": [
        "\n",
        "from google.colab import drive\n",
        "drive.mount('/content/drive')"
      ]
    },
    {
      "cell_type": "code",
      "execution_count": 89,
      "metadata": {
        "id": "Jjxp1k1qEvvK"
      },
      "outputs": [],
      "source": [
        "\n",
        "def extract_text_from_images(image_folder):\n",
        "    text_data = []\n",
        "    image_paths = []  # Store the image paths instead of just names\n",
        "\n",
        "    for image_name in os.listdir(image_folder):\n",
        "        image_path = os.path.join(image_folder, image_name)\n",
        "        img = cv2.imread(image_path,0)\n",
        "\n",
        "        ret,thresh1 = cv2.threshold(img,210,255,cv2.THRESH_BINARY)\n",
        "        blurred_image = cv2.GaussianBlur(img, (5, 5), 0)\n",
        "        # gray_image = cv2.cvtColor(img, cv2.COLOR_BGR2GRAY)\n",
        "\n",
        "    # Apply Gaussian blur to reduce noise and smooth the image\n",
        "        # blurred_image = cv2.GaussianBlur(gray_image, (5, 5), 0)\n",
        "\n",
        "    # Apply adaptive thresholding to create a binary image\n",
        "        threshold_image = cv2.adaptiveThreshold(\n",
        "        blurred_image, 255, cv2.ADAPTIVE_THRESH_GAUSSIAN_C, cv2.THRESH_BINARY, 11, 2\n",
        "        )\n",
        "\n",
        "        text = pytesseract.image_to_string(threshold_image)\n",
        "\n",
        "        # gray_image = cv2.cvtColor(img, cv2.COLOR_BGR2GRAY)\n",
        "\n",
        "    # Apply Gaussian blur to reduce noise and smooth the image\n",
        "        # blurred_image = cv2.GaussianBlur(gray_image, (5, 5), 0)\n",
        "\n",
        "    # Apply adaptive thresholding to create a binary image\n",
        "\n",
        "\n",
        "        text_data.append(text)\n",
        "        image_paths.append(image_path)  # Store the image paths\n",
        "\n",
        "    return text_data, image_paths  # Return the image paths instead of names\n"
      ]
    },
    {
      "cell_type": "code",
      "source": [
        "# import os\n",
        "# import cv2\n",
        "# import pytesseract\n",
        "# import pandas as pd\n",
        "# import numpy as np\n",
        "# from sklearn.svm import OneClassSVM\n",
        "# from sklearn.feature_extraction.text import TfidfVectorizer\n",
        "# def preprocess_text_data(text_data):\n",
        "#     # Convert the text data to numerical features using TF-IDF vectorization\n",
        "#     vectorizer = TfidfVectorizer(max_features=1000)  # You can adjust the max_features parameter\n",
        "#     numerical_features = vectorizer.fit_transform(text_data)\n",
        "#     return numerical_features\n",
        "\n",
        "# image_folder = '/content/drive/MyDrive/Colab Notebooks/Walmart Hackathon/images-dataset'\n",
        "\n",
        "# # Extract text from images\n",
        "# text_data, image_paths = extract_text_from_images(image_folder)\n",
        "\n",
        "# # Create the DataFrame\n",
        "# df = pd.DataFrame({'Image Path': image_paths, 'Text Data': text_data})\n",
        "\n",
        "# # Step 1: Preprocess the data (if needed)\n",
        "\n",
        "# # Step 2: Convert the text data to numerical features\n",
        "# X = preprocess_text_data(df['Text Data'])\n",
        "\n",
        "# # Step 3: Train the One-Class SVM\n",
        "# one_class_svm = OneClassSVM(nu=0.1)  # You can adjust the hyperparameter nu\n",
        "# one_class_svm.fit(X)\n",
        "\n",
        "# # Step 4: Predict and Label the Data\n",
        "# predictions = one_class_svm.predict(X)\n",
        "# df['Label'] = np.where(predictions == 1, 'legitimate', 'fraud')"
      ],
      "metadata": {
        "id": "FdTTkV2dwx_L"
      },
      "execution_count": 90,
      "outputs": []
    },
    {
      "cell_type": "code",
      "source": [
        "import os\n",
        "import cv2\n",
        "import pytesseract\n",
        "import pandas as pd\n",
        "import numpy as np\n",
        "from sklearn.svm import OneClassSVM\n",
        "from sklearn.feature_extraction.text import TfidfVectorizer\n",
        "def preprocess_text_data(text_data):\n",
        "    # Convert the text data to numerical features using TF-IDF vectorization\n",
        "    vectorizer = TfidfVectorizer(max_features=1000)  # You can adjust the max_features parameter\n",
        "    numerical_features = vectorizer.fit_transform(text_data)\n",
        "    return numerical_features\n",
        "\n",
        "image_folder = '/content/drive/MyDrive/Colab Notebooks/Walmart Hackathon/images-dataset'\n",
        "\n",
        "# Extract text from images\n",
        "text_data, image_paths = extract_text_from_images(image_folder)\n",
        "\n",
        "# Create the DataFrame\n",
        "df = pd.DataFrame({'Image Path': image_paths, 'Text Data': text_data})\n",
        "\n",
        "# Step 1: Preprocess the data (if needed)\n",
        "\n",
        "# Step 2: Convert the text data to numerical features\n",
        "X = preprocess_text_data(df['Text Data'])\n",
        "\n",
        "# Step 3: Train the One-Class SVM\n",
        "one_class_svm = OneClassSVM(nu=0.1)  # You can adjust the hyperparameter nu\n",
        "one_class_svm.fit(X)\n",
        "\n",
        "# Step 4: Predict and Label the Data\n",
        "predictions = one_class_svm.predict(X)\n",
        "df['Label'] = np.where(predictions == 1, 'legitimate', 'fraud')"
      ],
      "metadata": {
        "id": "R66U5F4J3NjL"
      },
      "execution_count": 91,
      "outputs": []
    },
    {
      "cell_type": "code",
      "execution_count": 92,
      "metadata": {
        "id": "pktEi79LEz5C"
      },
      "outputs": [],
      "source": [
        "# image_folder = '/content/drive/MyDrive/Colab Notebooks/Walmart Hackathon/images-dataset'\n",
        "# text_data, image_paths = extract_text_from_images(image_folder)\n",
        "\n",
        "# df = pd.DataFrame({'Image Path': image_paths, 'Text Data': text_data})\n"
      ]
    },
    {
      "cell_type": "code",
      "execution_count": 93,
      "metadata": {
        "id": "PnWnKRvYE4tU"
      },
      "outputs": [],
      "source": [
        "# isolation_forest = IsolationForest(contamination=0.1)\n",
        "# df['Label'] = isolation_forest.fit_predict(df['Text Data'].str.len().values.reshape(-1, 1))\n",
        "# df['Label'] = df['Label'].apply(lambda x: 'fraud' if x == -1 else 'legitimate')"
      ]
    },
    {
      "cell_type": "code",
      "source": [
        "\n",
        "import pandas as pd\n",
        "import numpy as np\n",
        "import os\n",
        "import re\n",
        "df['Text Data'] = df['Text Data'].str.strip()\n",
        "\n",
        "\n",
        "\n",
        "# Handling missing values (if any)\n",
        "df.dropna(subset=['Text Data'], inplace=True)\n",
        "\n",
        "# Converting all text to lowercase\n",
        "df['Text Data'] = df['Text Data'].str.lower()\n",
        "\n",
        "# Removing duplicate rows (if any)\n",
        "df.drop_duplicates(subset=['Text Data'], inplace=True)\n",
        "\n",
        "# Convert 'Label' to numerical values (0 for 'fraud' and 1 for 'legitimate')\n",
        "df['Label'] = df['Label'].apply(lambda x: 1 if x == 'legitimate' else 0)"
      ],
      "metadata": {
        "id": "DL35lLM7w6Mw"
      },
      "execution_count": 94,
      "outputs": []
    },
    {
      "cell_type": "code",
      "source": [
        "# import os\n",
        "# import cv2\n",
        "# import pytesseract\n",
        "# import pandas as pd\n",
        "# import numpy as np\n",
        "# from keras.models import Model\n",
        "# from keras.layers import Input, Dense\n",
        "\n",
        "# def extract_text_from_images(image_folder):\n",
        "#     text_data = []\n",
        "#     image_paths = []  # Store the image paths instead of just names\n",
        "\n",
        "#     for image_name in os.listdir(image_folder):\n",
        "#         image_path = os.path.join(image_folder, image_name)\n",
        "#         img = cv2.imread(image_path)\n",
        "#         text = pytesseract.image_to_string(img)\n",
        "\n",
        "#         text_data.append(text)\n",
        "#         image_paths.append(image_path)  # Store the image paths\n",
        "\n",
        "#     return text_data, image_paths  # Return the image paths instead of names\n",
        "\n",
        "# def create_autoencoder(input_dim, encoding_dim):\n",
        "#     # Define the encoder architecture\n",
        "#     input_layer = Input(shape=(input_dim,))\n",
        "#     encoded = Dense(encoding_dim, activation='relu')(input_layer)\n",
        "\n",
        "#     # Define the decoder architecture\n",
        "#     decoded = Dense(input_dim, activation='sigmoid')(encoded)\n",
        "\n",
        "#     # Create the autoencoder model\n",
        "#     autoencoder = Model(input_layer, decoded)\n",
        "\n",
        "#     # Compile the autoencoder\n",
        "#     autoencoder.compile(optimizer='adam', loss='mse')  # Use Mean Squared Error as the loss function\n",
        "\n",
        "#     return autoencoder\n",
        "\n",
        "# def assign_labels_using_autoencoder(df, autoencoder, threshold):\n",
        "#     # Encode the text data using the trained autoencoder\n",
        "#     encoded_data = autoencoder.predict(df['Text Data'].str.len().values.reshape(-1, 1))\n",
        "\n",
        "#     # Calculate the reconstruction error (distance) for each data point\n",
        "#     reconstruction_error = np.mean(np.square(encoded_data - df['Text Data'].str.len().values.reshape(-1, 1)), axis=1)\n",
        "\n",
        "#     # Create a new column 'Label' based on the threshold\n",
        "#     df['Label'] = np.where(reconstruction_error > threshold, 'fraud', 'legitimate')\n",
        "\n",
        "#     return df\n",
        "\n",
        "# image_folder = '/content/drive/MyDrive/Colab Notebooks/Walmart Hackathon/images-dataset'\n",
        "\n",
        "# text_data, image_paths = extract_text_from_images(image_folder)\n",
        "\n",
        "# df = pd.DataFrame({'Image Path': image_paths, 'Text Data': text_data})\n",
        "\n",
        "# # Step 1: Preprocess the data (if needed)\n",
        "\n",
        "# # Step 2: Create the Autoencoder model\n",
        "# input_dim = 1  # Replace this with the actual size of your input data (1 because we are using text length)\n",
        "# encoding_dim = 64  # Choose an appropriate encoding dimension\n",
        "\n",
        "# autoencoder = create_autoencoder(input_dim, encoding_dim)\n",
        "\n",
        "# # Step 3: Train the Autoencoder\n",
        "# # Assuming you have preprocessed text data and stored it in 'X_train' variable\n",
        "# epochs = 50  # Replace with the desired number of epochs for training\n",
        "# batch_size = 32  # Replace with the desired batch size\n",
        "# autoencoder.fit(df['Text Data'].str.len().values.reshape(-1, 1),\n",
        "#                 df['Text Data'].str.len().values.reshape(-1, 1),\n",
        "#                 epochs=epochs, batch_size=batch_size)\n",
        "\n",
        "# # Step 4: Predict and Label the Data\n",
        "# # Assuming you have set an appropriate threshold\n",
        "# threshold = 0.1\n",
        "\n",
        "# df_labeled = assign_labels_using_autoencoder(df, autoencoder, threshold)\n",
        "\n",
        "# print(df_labeled)\n"
      ],
      "metadata": {
        "id": "FaD-PqHew-92"
      },
      "execution_count": 95,
      "outputs": []
    },
    {
      "cell_type": "code",
      "source": [
        "csv_save_path = '/content/drive/MyDrive/Colab Notebooks/Walmart Hackathon/Dataset.csv'\n",
        "df.to_csv(csv_save_path, index=False)\n"
      ],
      "metadata": {
        "id": "GHJcpS8-xD5E"
      },
      "execution_count": 96,
      "outputs": []
    },
    {
      "cell_type": "code",
      "source": [
        "# import pandas as pd\n",
        "# from sklearn.model_selection import train_test_split\n",
        "# from sklearn.feature_extraction.text import TfidfVectorizer\n",
        "# from sklearn.svm import SVC\n",
        "# from sklearn.metrics import accuracy_score, classification_report\n",
        "\n",
        "# # Assuming you have the OCR-extracted text data in a DataFrame 'df' with columns 'Image Path', 'Text Data', and 'Label'\n",
        "\n",
        "# # Data Cleaning and Preprocessing (if required)\n",
        "\n",
        "# # Feature Engineering: Using TF-IDF Vectorization\n",
        "# vectorizer = TfidfVectorizer(max_features=1000)  # You can adjust the max_features parameter\n",
        "# X = vectorizer.fit_transform(df['Text Data'])\n",
        "# y = df['Label']\n",
        "\n",
        "# # Split the dataset into training and testing sets\n",
        "# X_train, X_test, y_train, y_test = train_test_split(X, y, test_size=0.2, random_state=42)\n",
        "\n",
        "# # Train the SVM classifier\n",
        "# model = SVC(kernel='linear')\n",
        "# model.fit(X_train, y_train)\n",
        "\n",
        "# # Make predictions on the test set\n",
        "# y_pred = model.predict(X_test)\n",
        "\n",
        "# accuracy = accuracy_score(y_test, y_pred) * 100\n",
        "# print(\"Accuracy: {:.2f}%\".format(accuracy))\n",
        "\n",
        "# # Generate a classification report\n",
        "# print(\"Classification Report:\")\n",
        "# print(classification_report(y_test, y_pred))\n"
      ],
      "metadata": {
        "id": "qCvcOt2jxICW"
      },
      "execution_count": 97,
      "outputs": []
    },
    {
      "cell_type": "code",
      "source": [
        "# import pandas as pd\n",
        "# from sklearn.model_selection import train_test_split\n",
        "# from sklearn.feature_extraction.text import TfidfVectorizer\n",
        "# from sklearn.ensemble import RandomForestClassifier\n",
        "# from sklearn.metrics import accuracy_score, classification_report\n",
        "\n",
        "# # Assuming you have the OCR-extracted text data in a DataFrame 'df' with columns 'Image Path', 'Text Data', and 'Label'\n",
        "\n",
        "# # Data Cleaning and Preprocessing (if required)\n",
        "\n",
        "# # Feature Engineering: Using TF-IDF Vectorization\n",
        "# vectorizer = TfidfVectorizer(max_features=1000)  # You can adjust the max_features parameter\n",
        "# X = vectorizer.fit_transform(df['Text Data'])\n",
        "# y = df['Label']\n",
        "\n",
        "# # Split the dataset into training and testing sets\n",
        "# X_train, X_test, y_train, y_test = train_test_split(X, y, test_size=0.2, random_state=42)\n",
        "\n",
        "# # Train the Random Forest classifier\n",
        "# model = RandomForestClassifier(n_estimators=100, random_state=42)\n",
        "# model.fit(X_train, y_train)\n",
        "\n",
        "# # Make predictions on the test set\n",
        "# y_pred = model.predict(X_test)\n",
        "\n",
        "# # Calculate the accuracy and print it in percentage\n",
        "# accuracy = accuracy_score(y_test, y_pred) * 100\n",
        "# print(\"Accuracy: {:.2f}%\".format(accuracy))\n",
        "\n",
        "# # Generate a classification report\n",
        "# print(\"Classification Report:\")\n",
        "# print(classification_report(y_test, y_pred))\n"
      ],
      "metadata": {
        "id": "uO5QW-1axNFt"
      },
      "execution_count": 98,
      "outputs": []
    },
    {
      "cell_type": "code",
      "source": [
        "import pandas as pd\n",
        "from sklearn.model_selection import train_test_split\n",
        "from sklearn.feature_extraction.text import TfidfVectorizer\n",
        "from sklearn.linear_model import LogisticRegression\n",
        "from sklearn.metrics import accuracy_score, classification_report,confusion_matrix\n",
        "import matplotlib.pyplot as plt\n",
        "import seaborn as sns\n",
        "\n",
        "\n",
        "# Assuming you have the OCR-extracted text data in a DataFrame 'df' with columns 'Image Path', 'Text Data', and 'Label'\n",
        "\n",
        "# Data Cleaning and Preprocessing (if required)\n",
        "\n",
        "# Feature Engineering: Using TF-IDF Vectorization\n",
        "vectorizer = TfidfVectorizer(max_features=1000)  # You can adjust the max_features parameter\n",
        "X = vectorizer.fit_transform(df['Text Data'])\n",
        "y = df['Label']\n",
        "\n",
        "# Split the dataset into training and testing sets\n",
        "X_train, X_test, y_train, y_test = train_test_split(X, y, test_size=0.3, random_state=42)\n",
        "\n",
        "# Train the Logistic Regression classifier\n",
        "model = LogisticRegression(random_state=42)\n",
        "model.fit(X_train, y_train)\n",
        "\n",
        "# Make predictions on the test set\n",
        "y_pred = model.predict(X_test)\n",
        "\n",
        "# Calculate the accuracy and print it in percentage\n",
        "accuracy = accuracy_score(y_test, y_pred) * 100\n",
        "print(\"Accuracy: {:.2f}%\".format(accuracy))\n",
        "\n",
        "# Generate a classification report\n",
        "print(\"Classification Report:\")\n",
        "print(classification_report(y_test, y_pred))\n",
        "conf_matrix = confusion_matrix(y_test, y_pred)\n",
        "\n",
        "# Plot the confusion matrix\n",
        "plt.figure(figsize=(8, 6))\n",
        "sns.heatmap(conf_matrix, annot=True, fmt='d', cmap='Blues', cbar=False)\n",
        "plt.xlabel('Predicted Labels')\n",
        "plt.ylabel('True Labels')\n",
        "plt.title('Confusion Matrix')\n",
        "plt.show()\n",
        "\n",
        "\n"
      ],
      "metadata": {
        "id": "nkLVJrI2xUP7",
        "colab": {
          "base_uri": "https://localhost:8080/",
          "height": 755
        },
        "outputId": "3ac152d1-279b-436d-9eda-667d26943983"
      },
      "execution_count": 99,
      "outputs": [
        {
          "output_type": "stream",
          "name": "stdout",
          "text": [
            "Accuracy: 75.47%\n",
            "Classification Report:\n",
            "              precision    recall  f1-score   support\n",
            "\n",
            "           0       0.75      1.00      0.85        38\n",
            "           1       1.00      0.13      0.24        15\n",
            "\n",
            "    accuracy                           0.75        53\n",
            "   macro avg       0.87      0.57      0.54        53\n",
            "weighted avg       0.82      0.75      0.68        53\n",
            "\n"
          ]
        },
        {
          "output_type": "display_data",
          "data": {
            "text/plain": [
              "<Figure size 800x600 with 1 Axes>"
            ],
            "image/png": "[encoded data removed]"
          },
          "metadata": {}
        }
      ]
    },
    {
      "cell_type": "code",
      "source": [
        "import joblib\n",
        "joblib.dump(vectorizer, 'vectorizer.joblib')\n",
        "joblib.dump(model, 'train-model.joblib')"
      ],
      "metadata": {
        "id": "zFQoI9kjzU9a",
        "colab": {
          "base_uri": "https://localhost:8080/"
        },
        "outputId": "0065cd5f-8969-4c1d-e63b-5ba83bc2eef8"
      },
      "execution_count": 100,
      "outputs": [
        {
          "output_type": "execute_result",
          "data": {
            "text/plain": [
              "['train-model.joblib']"
            ]
          },
          "metadata": {},
          "execution_count": 100
        }
      ]
    },
    {
      "cell_type": "code",
      "source": [
        "# import pandas as pd\n",
        "# from sklearn.model_selection import train_test_split\n",
        "# from sklearn.feature_extraction.text import TfidfVectorizer\n",
        "# import xgboost as xgb\n",
        "# from sklearn.metrics import accuracy_score, classification_report\n",
        "\n",
        "# # Assuming you have the OCR-extracted text data in a DataFrame 'df' with columns 'Image Path', 'Text Data', and 'Label'\n",
        "\n",
        "# # Data Cleaning and Preprocessing (if required)\n",
        "\n",
        "# # Feature Engineering: Using TF-IDF Vectorization\n",
        "# vectorizer = TfidfVectorizer(max_features=1000)  # You can adjust the max_features parameter\n",
        "# X = vectorizer.fit_transform(df['Text Data'])\n",
        "# y = df['Label']\n",
        "\n",
        "# # Split the dataset into training and testing sets\n",
        "# X_train, X_test, y_train, y_test = train_test_split(X, y, test_size=0.2, random_state=42)\n",
        "\n",
        "# # Train the XGBoost classifier\n",
        "# model = xgb.XGBClassifier(random_state=42)\n",
        "# model.fit(X_train, y_train)\n",
        "\n",
        "# # Make predictions on the test set\n",
        "# y_pred = model.predict(X_test)\n",
        "\n",
        "# # Calculate the accuracy and print it in percentage\n",
        "# accuracy = accuracy_score(y_test, y_pred) * 100\n",
        "# print(\"Accuracy: {:.2f}%\".format(accuracy))\n",
        "\n",
        "# # Generate a classification report\n",
        "# print(\"Classification Report:\")\n",
        "# print(classification_report(y_test, y_pred))\n"
      ],
      "metadata": {
        "id": "gLl_tHlvxXkN"
      },
      "execution_count": 101,
      "outputs": []
    },
    {
      "cell_type": "code",
      "source": [
        "# import pandas as pd\n",
        "# from sklearn.model_selection import train_test_split\n",
        "# from sklearn.feature_extraction.text import TfidfVectorizer\n",
        "# from sklearn.naive_bayes import MultinomialNB\n",
        "# from sklearn.metrics import accuracy_score, classification_report\n",
        "\n",
        "# # Assuming you have the OCR-extracted text data in a DataFrame 'df' with columns 'Image Path', 'Text Data', and 'Label'\n",
        "\n",
        "# # Data Cleaning and Preprocessing (if required)\n",
        "\n",
        "# # Feature Engineering: Using TF-IDF Vectorization\n",
        "# vectorizer = TfidfVectorizer(max_features=1000)  # You can adjust the max_features parameter\n",
        "# X = vectorizer.fit_transform(df['Text Data'])\n",
        "# y = df['Label']\n",
        "\n",
        "# # Split the dataset into training and testing sets\n",
        "# X_train, X_test, y_train, y_test = train_test_split(X, y, test_size=0.2, random_state=42)\n",
        "\n",
        "# # Train the Naive Bayes classifier\n",
        "# model = MultinomialNB()\n",
        "# model.fit(X_train, y_train)\n",
        "\n",
        "# # Make predictions on the test set\n",
        "# y_pred = model.predict(X_test)\n",
        "\n",
        "# # Calculate the accuracy and print it in percentage\n",
        "# accuracy = accuracy_score(y_test, y_pred) * 100\n",
        "# print(\"Accuracy: {:.2f}%\".format(accuracy))\n",
        "\n",
        "# # Generate a classification report\n",
        "# print(\"Classification Report:\")\n",
        "# print(classification_report(y_test, y_pred))\n"
      ],
      "metadata": {
        "id": "-yJ_GfcYx0hf"
      },
      "execution_count": 102,
      "outputs": []
    },
    {
      "cell_type": "code",
      "source": [
        "import pandas as pd\n",
        "\n",
        "# Assuming your CSV file is named 'dataset.csv' and located in the current working directory\n",
        "csv_file_path = '/content/drive/MyDrive/Colab Notebooks/Walmart Hackathon/Dataset.csv'\n",
        "\n",
        "# Read the CSV file into a pandas DataFrame\n",
        "df = pd.read_csv(csv_file_path)\n",
        "\n",
        "# Count the occurrences of each label in the 'Label' column\n",
        "label_counts = df['Label'].value_counts()\n",
        "\n",
        "# Print the number of fraud and legitimate records\n",
        "num_fraud_records = label_counts.get(0, 0)\n",
        "num_legitimate_records = label_counts.get(1, 0)\n",
        "\n",
        "print(\"Number of Fraud Records:\", num_fraud_records)\n",
        "print(\"Number of Legitimate Records:\", num_legitimate_records)\n"
      ],
      "metadata": {
        "id": "DPxYYyeIx3TI",
        "colab": {
          "base_uri": "https://localhost:8080/"
        },
        "outputId": "b9124adc-120f-4bd6-c489-0f3cbd6d624d"
      },
      "execution_count": 103,
      "outputs": [
        {
          "output_type": "stream",
          "name": "stdout",
          "text": [
            "Number of Fraud Records: 109\n",
            "Number of Legitimate Records: 67\n"
          ]
        }
      ]
    }
  ],
  "metadata": {
    "accelerator": "GPU",
    "colab": {
      "provenance": []
    },
    "kernelspec": {
      "display_name": "Python 3",
      "name": "python3"
    },
    "language_info": {
      "name": "python"
    }
  },
  "nbformat": 4,
  "nbformat_minor": 0
}